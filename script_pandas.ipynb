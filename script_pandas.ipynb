{
 "cells": [
  {
   "cell_type": "code",
   "execution_count": 1,
   "id": "98c725f5",
   "metadata": {},
   "outputs": [],
   "source": [
    "#import packages\n",
    "import pandas as pd"
   ]
  },
  {
   "cell_type": "code",
   "execution_count": 4,
   "id": "e8fd9197",
   "metadata": {},
   "outputs": [],
   "source": [
    "#get the data\n",
    "demo_df = pd.read_json(r\"https://raw.githubusercontent.com/viveknest/statascratch-solutions/main/UK%20Referendum%20Data/uk_demo.json\")\n",
    "results_df = pd.read_json(r\"https://raw.githubusercontent.com/viveknest/statascratch-solutions/main/UK%20Referendum%20Data/uk_results.json\")\n",
    "rejected_df = pd.read_json(r\"https://github.com/viveknest/statascratch-solutions/raw/main/UK%20Referendum%20Data/uk_rejected_ballots.json\")"
   ]
  },
  {
   "cell_type": "code",
   "execution_count": 5,
   "id": "5aac311c",
   "metadata": {},
   "outputs": [],
   "source": [
    "#join the datasets\n",
    "merged_df = pd.merge(demo_df, results_df, on='Area_Code', how='left').merge(rejected_df, on='Area_Code', how='left')"
   ]
  },
  {
   "cell_type": "code",
   "execution_count": 8,
   "id": "b5e43fa6",
   "metadata": {},
   "outputs": [
    {
     "data": {
      "application/vnd.microsoft.datawrangler.viewer.v0+json": {
       "columns": [
        {
         "name": "index",
         "rawType": "object",
         "type": "string"
        },
        {
         "name": "Electorate",
         "rawType": "float64",
         "type": "float"
        },
        {
         "name": "Remain",
         "rawType": "float64",
         "type": "float"
        },
        {
         "name": "Leave",
         "rawType": "float64",
         "type": "float"
        },
        {
         "name": "Rejected_Ballots",
         "rawType": "float64",
         "type": "float"
        }
       ],
       "ref": "8b11f74c-4318-4967-83e4-aa0cc5e308bb",
       "rows": [
        [
         "mean",
         "121727.75130890052",
         "42254.55759162304",
         "45577.858638743455",
         "66.3848167539267"
        ],
        [
         "std",
         "97061.75286032372",
         "35622.62073208726",
         "31308.892098434393",
         "59.45130634903454"
        ],
        [
         "min",
         "1799.0",
         "803.0",
         "621.0",
         "0.0"
        ],
        [
         "max",
         "1260955.0",
         "440707.0",
         "349442.0",
         "614.0"
        ],
        [
         "25%",
         "72523.75",
         "23535.25",
         "28668.5",
         "33.25"
        ],
        [
         "75%",
         "141379.75",
         "48245.5",
         "54137.5",
         "74.0"
        ]
       ],
       "shape": {
        "columns": 4,
        "rows": 6
       }
      },
      "text/html": [
       "<div>\n",
       "<style scoped>\n",
       "    .dataframe tbody tr th:only-of-type {\n",
       "        vertical-align: middle;\n",
       "    }\n",
       "\n",
       "    .dataframe tbody tr th {\n",
       "        vertical-align: top;\n",
       "    }\n",
       "\n",
       "    .dataframe thead th {\n",
       "        text-align: right;\n",
       "    }\n",
       "</style>\n",
       "<table border=\"1\" class=\"dataframe\">\n",
       "  <thead>\n",
       "    <tr style=\"text-align: right;\">\n",
       "      <th></th>\n",
       "      <th>Electorate</th>\n",
       "      <th>Remain</th>\n",
       "      <th>Leave</th>\n",
       "      <th>Rejected_Ballots</th>\n",
       "    </tr>\n",
       "  </thead>\n",
       "  <tbody>\n",
       "    <tr>\n",
       "      <th>mean</th>\n",
       "      <td>1.217278e+05</td>\n",
       "      <td>42254.557592</td>\n",
       "      <td>45577.858639</td>\n",
       "      <td>66.384817</td>\n",
       "    </tr>\n",
       "    <tr>\n",
       "      <th>std</th>\n",
       "      <td>9.706175e+04</td>\n",
       "      <td>35622.620732</td>\n",
       "      <td>31308.892098</td>\n",
       "      <td>59.451306</td>\n",
       "    </tr>\n",
       "    <tr>\n",
       "      <th>min</th>\n",
       "      <td>1.799000e+03</td>\n",
       "      <td>803.000000</td>\n",
       "      <td>621.000000</td>\n",
       "      <td>0.000000</td>\n",
       "    </tr>\n",
       "    <tr>\n",
       "      <th>max</th>\n",
       "      <td>1.260955e+06</td>\n",
       "      <td>440707.000000</td>\n",
       "      <td>349442.000000</td>\n",
       "      <td>614.000000</td>\n",
       "    </tr>\n",
       "    <tr>\n",
       "      <th>25%</th>\n",
       "      <td>7.252375e+04</td>\n",
       "      <td>23535.250000</td>\n",
       "      <td>28668.500000</td>\n",
       "      <td>33.250000</td>\n",
       "    </tr>\n",
       "    <tr>\n",
       "      <th>75%</th>\n",
       "      <td>1.413798e+05</td>\n",
       "      <td>48245.500000</td>\n",
       "      <td>54137.500000</td>\n",
       "      <td>74.000000</td>\n",
       "    </tr>\n",
       "  </tbody>\n",
       "</table>\n",
       "</div>"
      ],
      "text/plain": [
       "        Electorate         Remain          Leave  Rejected_Ballots\n",
       "mean  1.217278e+05   42254.557592   45577.858639         66.384817\n",
       "std   9.706175e+04   35622.620732   31308.892098         59.451306\n",
       "min   1.799000e+03     803.000000     621.000000          0.000000\n",
       "max   1.260955e+06  440707.000000  349442.000000        614.000000\n",
       "25%   7.252375e+04   23535.250000   28668.500000         33.250000\n",
       "75%   1.413798e+05   48245.500000   54137.500000         74.000000"
      ]
     },
     "execution_count": 8,
     "metadata": {},
     "output_type": "execute_result"
    }
   ],
   "source": [
    "#get summary statistics\n",
    "merged_df.describe()\n",
    "\n",
    "#list the ones we cared\n",
    "merged_df.describe().loc[['mean', 'std', 'min', 'max', '25%', '75%'], ['Electorate', 'Remain', 'Leave', 'Rejected_Ballots']]"
   ]
  },
  {
   "cell_type": "code",
   "execution_count": 20,
   "id": "216964e9",
   "metadata": {},
   "outputs": [
    {
     "data": {
      "text/plain": [
       "'Northern Ireland'"
      ]
     },
     "execution_count": 20,
     "metadata": {},
     "output_type": "execute_result"
    }
   ],
   "source": [
    "#get areas with the hightest electorates\n",
    "merged_df.sort_values(by='Electorate', ascending=False).iloc[0]['Area']\n",
    "#another way to get the same\n",
    "merged_df.loc[merged_df['Electorate'].idxmax()]['Area']\n",
    "\n"
   ]
  },
  {
   "cell_type": "code",
   "execution_count": 23,
   "id": "f02b248e",
   "metadata": {},
   "outputs": [
    {
     "data": {
      "application/vnd.microsoft.datawrangler.viewer.v0+json": {
       "columns": [
        {
         "name": "Region",
         "rawType": "object",
         "type": "string"
        },
        {
         "name": "Electorate",
         "rawType": "int64",
         "type": "integer"
        }
       ],
       "ref": "ee97e88f-a8a8-40f7-98dc-854411b15f08",
       "rows": [
        [
         "East",
         "4398796"
        ],
        [
         "East Midlands",
         "3384299"
        ],
        [
         "London",
         "5424768"
        ],
        [
         "North East",
         "1934341"
        ],
        [
         "North West",
         "5241568"
        ],
        [
         "Northern Ireland",
         "1260955"
        ],
        [
         "Scotland",
         "3987112"
        ],
        [
         "South East",
         "6465404"
        ],
        [
         "South West",
         "4138134"
        ],
        [
         "Wales",
         "2270272"
        ],
        [
         "West Midlands",
         "4116572"
        ],
        [
         "Yorkshire and The Humber",
         "3877780"
        ]
       ],
       "shape": {
        "columns": 1,
        "rows": 12
       }
      },
      "text/html": [
       "<div>\n",
       "<style scoped>\n",
       "    .dataframe tbody tr th:only-of-type {\n",
       "        vertical-align: middle;\n",
       "    }\n",
       "\n",
       "    .dataframe tbody tr th {\n",
       "        vertical-align: top;\n",
       "    }\n",
       "\n",
       "    .dataframe thead th {\n",
       "        text-align: right;\n",
       "    }\n",
       "</style>\n",
       "<table border=\"1\" class=\"dataframe\">\n",
       "  <thead>\n",
       "    <tr style=\"text-align: right;\">\n",
       "      <th></th>\n",
       "      <th>Electorate</th>\n",
       "    </tr>\n",
       "    <tr>\n",
       "      <th>Region</th>\n",
       "      <th></th>\n",
       "    </tr>\n",
       "  </thead>\n",
       "  <tbody>\n",
       "    <tr>\n",
       "      <th>East</th>\n",
       "      <td>4398796</td>\n",
       "    </tr>\n",
       "    <tr>\n",
       "      <th>East Midlands</th>\n",
       "      <td>3384299</td>\n",
       "    </tr>\n",
       "    <tr>\n",
       "      <th>London</th>\n",
       "      <td>5424768</td>\n",
       "    </tr>\n",
       "    <tr>\n",
       "      <th>North East</th>\n",
       "      <td>1934341</td>\n",
       "    </tr>\n",
       "    <tr>\n",
       "      <th>North West</th>\n",
       "      <td>5241568</td>\n",
       "    </tr>\n",
       "    <tr>\n",
       "      <th>Northern Ireland</th>\n",
       "      <td>1260955</td>\n",
       "    </tr>\n",
       "    <tr>\n",
       "      <th>Scotland</th>\n",
       "      <td>3987112</td>\n",
       "    </tr>\n",
       "    <tr>\n",
       "      <th>South East</th>\n",
       "      <td>6465404</td>\n",
       "    </tr>\n",
       "    <tr>\n",
       "      <th>South West</th>\n",
       "      <td>4138134</td>\n",
       "    </tr>\n",
       "    <tr>\n",
       "      <th>Wales</th>\n",
       "      <td>2270272</td>\n",
       "    </tr>\n",
       "    <tr>\n",
       "      <th>West Midlands</th>\n",
       "      <td>4116572</td>\n",
       "    </tr>\n",
       "    <tr>\n",
       "      <th>Yorkshire and The Humber</th>\n",
       "      <td>3877780</td>\n",
       "    </tr>\n",
       "  </tbody>\n",
       "</table>\n",
       "</div>"
      ],
      "text/plain": [
       "                          Electorate\n",
       "Region                              \n",
       "East                         4398796\n",
       "East Midlands                3384299\n",
       "London                       5424768\n",
       "North East                   1934341\n",
       "North West                   5241568\n",
       "Northern Ireland             1260955\n",
       "Scotland                     3987112\n",
       "South East                   6465404\n",
       "South West                   4138134\n",
       "Wales                        2270272\n",
       "West Midlands                4116572\n",
       "Yorkshire and The Humber     3877780"
      ]
     },
     "execution_count": 23,
     "metadata": {},
     "output_type": "execute_result"
    }
   ],
   "source": [
    "#find regionwise totals\n",
    "merged_df.groupby('Region').aggregate({\n",
    "    'Electorate': 'sum'})\n",
    "\n",
    "#another way to get the same\n",
    "merged_df.pivot_table(index='Region', values='Electorate', aggfunc='sum')"
   ]
  },
  {
   "cell_type": "code",
   "execution_count": 27,
   "id": "9d4b4a34",
   "metadata": {},
   "outputs": [
    {
     "data": {
      "application/vnd.microsoft.datawrangler.viewer.v0+json": {
       "columns": [
        {
         "name": "Region",
         "rawType": "object",
         "type": "string"
        },
        {
         "name": "Electorate",
         "rawType": "float64",
         "type": "float"
        }
       ],
       "ref": "5fe9f277-8f5c-4d1e-ad51-e407ca93aea4",
       "rows": [
        [
         "East",
         "9.459776140649975"
        ],
        [
         "East Midlands",
         "7.278062209073931"
        ],
        [
         "London",
         "11.66616749105016"
        ],
        [
         "North East",
         "4.159873028819935"
        ],
        [
         "North West",
         "11.272189004899161"
        ],
        [
         "Northern Ireland",
         "2.711731124478901"
        ],
        [
         "Scotland",
         "8.574434224205715"
        ],
        [
         "South East",
         "13.904094324643133"
        ],
        [
         "South West",
         "8.899212711844887"
        ],
        [
         "Wales",
         "4.882305271348273"
        ],
        [
         "West Midlands",
         "8.852842820368972"
        ],
        [
         "Yorkshire and The Humber",
         "8.339311648616954"
        ]
       ],
       "shape": {
        "columns": 1,
        "rows": 12
       }
      },
      "text/html": [
       "<div>\n",
       "<style scoped>\n",
       "    .dataframe tbody tr th:only-of-type {\n",
       "        vertical-align: middle;\n",
       "    }\n",
       "\n",
       "    .dataframe tbody tr th {\n",
       "        vertical-align: top;\n",
       "    }\n",
       "\n",
       "    .dataframe thead th {\n",
       "        text-align: right;\n",
       "    }\n",
       "</style>\n",
       "<table border=\"1\" class=\"dataframe\">\n",
       "  <thead>\n",
       "    <tr style=\"text-align: right;\">\n",
       "      <th></th>\n",
       "      <th>Electorate</th>\n",
       "    </tr>\n",
       "    <tr>\n",
       "      <th>Region</th>\n",
       "      <th></th>\n",
       "    </tr>\n",
       "  </thead>\n",
       "  <tbody>\n",
       "    <tr>\n",
       "      <th>East</th>\n",
       "      <td>9.459776</td>\n",
       "    </tr>\n",
       "    <tr>\n",
       "      <th>East Midlands</th>\n",
       "      <td>7.278062</td>\n",
       "    </tr>\n",
       "    <tr>\n",
       "      <th>London</th>\n",
       "      <td>11.666167</td>\n",
       "    </tr>\n",
       "    <tr>\n",
       "      <th>North East</th>\n",
       "      <td>4.159873</td>\n",
       "    </tr>\n",
       "    <tr>\n",
       "      <th>North West</th>\n",
       "      <td>11.272189</td>\n",
       "    </tr>\n",
       "    <tr>\n",
       "      <th>Northern Ireland</th>\n",
       "      <td>2.711731</td>\n",
       "    </tr>\n",
       "    <tr>\n",
       "      <th>Scotland</th>\n",
       "      <td>8.574434</td>\n",
       "    </tr>\n",
       "    <tr>\n",
       "      <th>South East</th>\n",
       "      <td>13.904094</td>\n",
       "    </tr>\n",
       "    <tr>\n",
       "      <th>South West</th>\n",
       "      <td>8.899213</td>\n",
       "    </tr>\n",
       "    <tr>\n",
       "      <th>Wales</th>\n",
       "      <td>4.882305</td>\n",
       "    </tr>\n",
       "    <tr>\n",
       "      <th>West Midlands</th>\n",
       "      <td>8.852843</td>\n",
       "    </tr>\n",
       "    <tr>\n",
       "      <th>Yorkshire and The Humber</th>\n",
       "      <td>8.339312</td>\n",
       "    </tr>\n",
       "  </tbody>\n",
       "</table>\n",
       "</div>"
      ],
      "text/plain": [
       "                          Electorate\n",
       "Region                              \n",
       "East                        9.459776\n",
       "East Midlands               7.278062\n",
       "London                     11.666167\n",
       "North East                  4.159873\n",
       "North West                 11.272189\n",
       "Northern Ireland            2.711731\n",
       "Scotland                    8.574434\n",
       "South East                 13.904094\n",
       "South West                  8.899213\n",
       "Wales                       4.882305\n",
       "West Midlands               8.852843\n",
       "Yorkshire and The Humber    8.339312"
      ]
     },
     "execution_count": 27,
     "metadata": {},
     "output_type": "execute_result"
    }
   ],
   "source": [
    "#contribution of each region to the total electorate\n",
    "merged_df.groupby('Region').aggregate({\n",
    "    'Electorate': 'sum'}).assign(\n",
    "    Percentage=lambda x: x['Electorate'] / x['Electorate'].sum() * 100\n",
    ").sort_values(by='Percentage', ascending=False)['Percentage']\n",
    "\n",
    "#another way to get the same\n",
    "merged_df.groupby('Region').aggregate({\n",
    "    'Electorate': 'sum'})/ merged_df['Electorate'].sum() * 100  "
   ]
  }
 ],
 "metadata": {
  "kernelspec": {
   "display_name": "base",
   "language": "python",
   "name": "python3"
  },
  "language_info": {
   "codemirror_mode": {
    "name": "ipython",
    "version": 3
   },
   "file_extension": ".py",
   "mimetype": "text/x-python",
   "name": "python",
   "nbconvert_exporter": "python",
   "pygments_lexer": "ipython3",
   "version": "3.13.5"
  }
 },
 "nbformat": 4,
 "nbformat_minor": 5
}
